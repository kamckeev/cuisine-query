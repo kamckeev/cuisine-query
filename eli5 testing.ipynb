{
 "cells": [
  {
   "cell_type": "code",
   "execution_count": 1,
   "metadata": {},
   "outputs": [
    {
     "name": "stderr",
     "output_type": "stream",
     "text": [
      "Using TensorFlow backend.\n"
     ]
    }
   ],
   "source": [
    "import pandas as pd\n",
    "import numpy as np\n",
    "import eli5\n",
    "\n",
    "from sklearn.preprocessing import LabelEncoder\n",
    "from keras.utils import to_categorical\n",
    "from sklearn.model_selection import train_test_split\n",
    "from sklearn.datasets import make_classification\n",
    "from tensorflow.keras.models import Sequential\n",
    "from tensorflow.keras.layers import Dense\n",
    "\n",
    "from math import pi\n",
    "import heapq\n",
    "\n",
    "import matplotlib.pyplot as plt\n",
    "from pathlib import Path\n",
    "\n",
    "from bokeh.io import output_file, show\n",
    "from bokeh.palettes import Category20c\n",
    "from bokeh.plotting import figure\n",
    "from bokeh.transform import cumsum"
   ]
  },
  {
   "cell_type": "code",
   "execution_count": 2,
   "metadata": {},
   "outputs": [
    {
     "data": {
      "text/html": [
       "<div>\n",
       "<style scoped>\n",
       "    .dataframe tbody tr th:only-of-type {\n",
       "        vertical-align: middle;\n",
       "    }\n",
       "\n",
       "    .dataframe tbody tr th {\n",
       "        vertical-align: top;\n",
       "    }\n",
       "\n",
       "    .dataframe thead th {\n",
       "        text-align: right;\n",
       "    }\n",
       "</style>\n",
       "<table border=\"1\" class=\"dataframe\">\n",
       "  <thead>\n",
       "    <tr style=\"text-align: right;\">\n",
       "      <th></th>\n",
       "      <th>cuisine</th>\n",
       "      <th>id</th>\n",
       "      <th>ingredients</th>\n",
       "    </tr>\n",
       "  </thead>\n",
       "  <tbody>\n",
       "    <tr>\n",
       "      <th>0</th>\n",
       "      <td>greek</td>\n",
       "      <td>10259</td>\n",
       "      <td>[romaine lettuce, black olives, grape tomatoes...</td>\n",
       "    </tr>\n",
       "    <tr>\n",
       "      <th>1</th>\n",
       "      <td>southern_us</td>\n",
       "      <td>25693</td>\n",
       "      <td>[plain flour, ground pepper, salt, tomatoes, g...</td>\n",
       "    </tr>\n",
       "    <tr>\n",
       "      <th>2</th>\n",
       "      <td>filipino</td>\n",
       "      <td>20130</td>\n",
       "      <td>[eggs, pepper, salt, mayonaise, cooking oil, g...</td>\n",
       "    </tr>\n",
       "    <tr>\n",
       "      <th>3</th>\n",
       "      <td>indian</td>\n",
       "      <td>22213</td>\n",
       "      <td>[water, vegetable oil, wheat, salt]</td>\n",
       "    </tr>\n",
       "    <tr>\n",
       "      <th>4</th>\n",
       "      <td>indian</td>\n",
       "      <td>13162</td>\n",
       "      <td>[black pepper, shallots, cornflour, cayenne pe...</td>\n",
       "    </tr>\n",
       "  </tbody>\n",
       "</table>\n",
       "</div>"
      ],
      "text/plain": [
       "       cuisine     id                                        ingredients\n",
       "0        greek  10259  [romaine lettuce, black olives, grape tomatoes...\n",
       "1  southern_us  25693  [plain flour, ground pepper, salt, tomatoes, g...\n",
       "2     filipino  20130  [eggs, pepper, salt, mayonaise, cooking oil, g...\n",
       "3       indian  22213                [water, vegetable oil, wheat, salt]\n",
       "4       indian  13162  [black pepper, shallots, cornflour, cayenne pe..."
      ]
     },
     "execution_count": 2,
     "metadata": {},
     "output_type": "execute_result"
    }
   ],
   "source": [
    "file=\"data/train.json\"\n",
    "data = pd.read_json(file, orient='columns')\n",
    "data.head()"
   ]
  },
  {
   "cell_type": "code",
   "execution_count": 3,
   "metadata": {},
   "outputs": [
    {
     "name": "stdout",
     "output_type": "stream",
     "text": [
      "all_ingredients: 428275\n",
      "unique_ingredients: 6714\n"
     ]
    }
   ],
   "source": [
    "ingredients = data['ingredients']\n",
    "all_ingredients = []\n",
    "for item in ingredients:\n",
    "    all_ingredients.extend(item)\n",
    "    \n",
    "#This list will need some cleanup. whole lotta cleanup for data visualization\n",
    "unique_ingredients = list(set(all_ingredients))\n",
    "# unique_ingredients\n",
    "\n",
    "print(\"all_ingredients: \" + str(len(all_ingredients)))\n",
    "print(\"unique_ingredients: \" + str(len(unique_ingredients)))"
   ]
  },
  {
   "cell_type": "markdown",
   "metadata": {},
   "source": [
    "\n",
    "# machine learning"
   ]
  },
  {
   "cell_type": "code",
   "execution_count": 7,
   "metadata": {},
   "outputs": [
    {
     "data": {
      "text/plain": [
       "array([0., 0., 0., 0., 0., 0., 1., 0., 0., 0., 0., 0., 0., 0., 0., 0., 0.,\n",
       "       0., 0., 0.], dtype=float32)"
      ]
     },
     "execution_count": 7,
     "metadata": {},
     "output_type": "execute_result"
    }
   ],
   "source": [
    "cuisine_list = data['cuisine']\n",
    "cuisine_compilation = []\n",
    "for cuisine in cuisine_list:\n",
    "    cuisine_compilation.append(cuisine)\n",
    "      \n",
    "cuis_unique = list(set(cuisine_compilation))\n",
    "\n",
    "label_encoder_cuis = LabelEncoder()\n",
    "label_encoder_cuis.fit(cuis_unique)\n",
    "encoded_cuis = label_encoder_cuis.transform(data['cuisine'])\n",
    "\n",
    "one_hot_cuis = to_categorical(encoded_cuis)\n",
    "one_hot_cuis[0]"
   ]
  },
  {
   "cell_type": "code",
   "execution_count": 8,
   "metadata": {},
   "outputs": [
    {
     "data": {
      "text/html": [
       "<div>\n",
       "<style scoped>\n",
       "    .dataframe tbody tr th:only-of-type {\n",
       "        vertical-align: middle;\n",
       "    }\n",
       "\n",
       "    .dataframe tbody tr th {\n",
       "        vertical-align: top;\n",
       "    }\n",
       "\n",
       "    .dataframe thead th {\n",
       "        text-align: right;\n",
       "    }\n",
       "</style>\n",
       "<table border=\"1\" class=\"dataframe\">\n",
       "  <thead>\n",
       "    <tr style=\"text-align: right;\">\n",
       "      <th></th>\n",
       "      <th>cuisine</th>\n",
       "      <th>one_hot_cuisine</th>\n",
       "      <th>ingredients</th>\n",
       "    </tr>\n",
       "  </thead>\n",
       "  <tbody>\n",
       "    <tr>\n",
       "      <th>0</th>\n",
       "      <td>greek</td>\n",
       "      <td>[0.0, 0.0, 0.0, 0.0, 0.0, 0.0, 1.0, 0.0, 0.0, ...</td>\n",
       "      <td>[romaine lettuce, black olives, grape tomatoes...</td>\n",
       "    </tr>\n",
       "    <tr>\n",
       "      <th>1</th>\n",
       "      <td>southern_us</td>\n",
       "      <td>[0.0, 0.0, 0.0, 0.0, 0.0, 0.0, 0.0, 0.0, 0.0, ...</td>\n",
       "      <td>[plain flour, ground pepper, salt, tomatoes, g...</td>\n",
       "    </tr>\n",
       "    <tr>\n",
       "      <th>2</th>\n",
       "      <td>filipino</td>\n",
       "      <td>[0.0, 0.0, 0.0, 0.0, 1.0, 0.0, 0.0, 0.0, 0.0, ...</td>\n",
       "      <td>[eggs, pepper, salt, mayonaise, cooking oil, g...</td>\n",
       "    </tr>\n",
       "    <tr>\n",
       "      <th>3</th>\n",
       "      <td>indian</td>\n",
       "      <td>[0.0, 0.0, 0.0, 0.0, 0.0, 0.0, 0.0, 1.0, 0.0, ...</td>\n",
       "      <td>[water, vegetable oil, wheat, salt]</td>\n",
       "    </tr>\n",
       "    <tr>\n",
       "      <th>4</th>\n",
       "      <td>indian</td>\n",
       "      <td>[0.0, 0.0, 0.0, 0.0, 0.0, 0.0, 0.0, 1.0, 0.0, ...</td>\n",
       "      <td>[black pepper, shallots, cornflour, cayenne pe...</td>\n",
       "    </tr>\n",
       "  </tbody>\n",
       "</table>\n",
       "</div>"
      ],
      "text/plain": [
       "       cuisine                                    one_hot_cuisine  \\\n",
       "0        greek  [0.0, 0.0, 0.0, 0.0, 0.0, 0.0, 1.0, 0.0, 0.0, ...   \n",
       "1  southern_us  [0.0, 0.0, 0.0, 0.0, 0.0, 0.0, 0.0, 0.0, 0.0, ...   \n",
       "2     filipino  [0.0, 0.0, 0.0, 0.0, 1.0, 0.0, 0.0, 0.0, 0.0, ...   \n",
       "3       indian  [0.0, 0.0, 0.0, 0.0, 0.0, 0.0, 0.0, 1.0, 0.0, ...   \n",
       "4       indian  [0.0, 0.0, 0.0, 0.0, 0.0, 0.0, 0.0, 1.0, 0.0, ...   \n",
       "\n",
       "                                         ingredients  \n",
       "0  [romaine lettuce, black olives, grape tomatoes...  \n",
       "1  [plain flour, ground pepper, salt, tomatoes, g...  \n",
       "2  [eggs, pepper, salt, mayonaise, cooking oil, g...  \n",
       "3                [water, vegetable oil, wheat, salt]  \n",
       "4  [black pepper, shallots, cornflour, cayenne pe...  "
      ]
     },
     "execution_count": 8,
     "metadata": {},
     "output_type": "execute_result"
    }
   ],
   "source": [
    "data[\"one_hot_cuisine\"] = list(one_hot_cuis)\n",
    "data = data[[\"cuisine\", \"one_hot_cuisine\", \"ingredients\"]]\n",
    "data.head()"
   ]
  },
  {
   "cell_type": "code",
   "execution_count": 9,
   "metadata": {},
   "outputs": [],
   "source": [
    "ingredients = data.loc[:,'ingredients']\n",
    "\n",
    "i_map = {}\n",
    "i_list = []\n",
    "counter = 0\n",
    "for lists in ingredients:\n",
    "    for items in lists:\n",
    "        if items not in i_map:\n",
    "            i_list.append(items)\n",
    "            i_map[items] = counter\n",
    "            counter = counter + 1\n",
    "\n",
    "ingredients_encodings = []\n",
    "for lists in ingredients:\n",
    "    encoding = [0]*len(i_map)\n",
    "    for items in lists:\n",
    "        encoding[i_map[items]] = 1\n",
    "    ingredients_encodings.append(encoding)"
   ]
  },
  {
   "cell_type": "code",
   "execution_count": 10,
   "metadata": {},
   "outputs": [],
   "source": [
    "data[\"one_hot_ingredients\"] = ingredients_encodings\n",
    "one_hot_cuisine = data['one_hot_cuisine']\n",
    "one_hot_ingredients = data['one_hot_ingredients']"
   ]
  },
  {
   "cell_type": "code",
   "execution_count": 11,
   "metadata": {},
   "outputs": [
    {
     "name": "stdout",
     "output_type": "stream",
     "text": [
      "WARNING:tensorflow:From C:\\ProgramData\\Anaconda3\\lib\\site-packages\\tensorflow\\python\\ops\\resource_variable_ops.py:435: colocate_with (from tensorflow.python.framework.ops) is deprecated and will be removed in a future version.\n",
      "Instructions for updating:\n",
      "Colocations handled automatically by placer.\n"
     ]
    }
   ],
   "source": [
    "ing_train, ing_test,cuis_train, cuis_test = train_test_split(one_hot_ingredients, one_hot_cuisine, random_state=1)\n",
    "\n",
    "cuis_train = np.array(cuis_train.tolist())\n",
    "cuis_test = np.array(cuis_test.tolist())\n",
    "ing_train = np.array(ing_train.tolist())\n",
    "ing_test = np.array(ing_test.tolist())\n",
    "\n",
    "model = Sequential()\n",
    "number_inputs = len(i_list)\n",
    "number_hidden_nodes = 4\n",
    "model.add(Dense(units=number_hidden_nodes,\n",
    "                activation='relu', input_dim=number_inputs))"
   ]
  },
  {
   "cell_type": "code",
   "execution_count": 12,
   "metadata": {},
   "outputs": [],
   "source": [
    "#unique ingredients\n",
    "number_classes = 6714\n",
    "model.add(Dense(units=number_classes, activation='softmax'))\n",
    "\n",
    "#unique cuisines\n",
    "number_classes = 20\n",
    "model.add(Dense(units=number_classes, activation='softmax'))"
   ]
  },
  {
   "cell_type": "code",
   "execution_count": 13,
   "metadata": {},
   "outputs": [
    {
     "name": "stdout",
     "output_type": "stream",
     "text": [
      "_________________________________________________________________\n",
      "Layer (type)                 Output Shape              Param #   \n",
      "=================================================================\n",
      "dense (Dense)                (None, 4)                 26860     \n",
      "_________________________________________________________________\n",
      "dense_1 (Dense)              (None, 6714)              33570     \n",
      "_________________________________________________________________\n",
      "dense_2 (Dense)              (None, 20)                134300    \n",
      "=================================================================\n",
      "Total params: 194,730\n",
      "Trainable params: 194,730\n",
      "Non-trainable params: 0\n",
      "_________________________________________________________________\n"
     ]
    }
   ],
   "source": [
    "model.compile(optimizer='adam',\n",
    "              loss='categorical_crossentropy',\n",
    "              metrics=['accuracy'])\n",
    "model.summary()"
   ]
  },
  {
   "cell_type": "code",
   "execution_count": 16,
   "metadata": {},
   "outputs": [
    {
     "name": "stdout",
     "output_type": "stream",
     "text": [
      "Epoch 1/20\n",
      " - 11s - loss: 0.9773 - acc: 0.7017\n",
      "Epoch 2/20\n",
      " - 13s - loss: 0.9509 - acc: 0.7121\n",
      "Epoch 3/20\n",
      " - 13s - loss: 0.9233 - acc: 0.7245\n",
      "Epoch 4/20\n",
      " - 14s - loss: 0.8996 - acc: 0.7307\n",
      "Epoch 5/20\n",
      " - 14s - loss: 0.8787 - acc: 0.7366\n",
      "Epoch 6/20\n",
      " - 14s - loss: 0.8608 - acc: 0.7449\n",
      "Epoch 7/20\n",
      " - 14s - loss: 0.8446 - acc: 0.7482\n",
      "Epoch 8/20\n",
      " - 14s - loss: 0.8299 - acc: 0.7529\n",
      "Epoch 9/20\n",
      " - 14s - loss: 0.8146 - acc: 0.7594\n",
      "Epoch 10/20\n",
      " - 15s - loss: 0.8020 - acc: 0.7612\n",
      "Epoch 11/20\n",
      " - 15s - loss: 0.7892 - acc: 0.7645\n",
      "Epoch 12/20\n",
      " - 13s - loss: 0.7775 - acc: 0.7681\n",
      "Epoch 13/20\n",
      " - 10s - loss: 0.7666 - acc: 0.7753\n",
      "Epoch 14/20\n",
      " - 10s - loss: 0.7557 - acc: 0.7800\n",
      "Epoch 15/20\n",
      " - 11s - loss: 0.7453 - acc: 0.7838\n",
      "Epoch 16/20\n",
      " - 11s - loss: 0.7368 - acc: 0.7857\n",
      "Epoch 17/20\n",
      " - 10s - loss: 0.7280 - acc: 0.7895\n",
      "Epoch 18/20\n",
      " - 10s - loss: 0.7200 - acc: 0.7917\n",
      "Epoch 19/20\n",
      " - 10s - loss: 0.7122 - acc: 0.7936\n",
      "Epoch 20/20\n",
      " - 11s - loss: 0.7056 - acc: 0.7981\n"
     ]
    },
    {
     "data": {
      "text/plain": [
       "<tensorflow.python.keras.callbacks.History at 0x210b3c8e898>"
      ]
     },
     "execution_count": 16,
     "metadata": {},
     "output_type": "execute_result"
    }
   ],
   "source": [
    "model.fit(\n",
    "    ing_train,\n",
    "    cuis_train,\n",
    "    epochs=20,\n",
    "    shuffle=True,\n",
    "    verbose=2\n",
    ")"
   ]
  },
  {
   "cell_type": "code",
   "execution_count": null,
   "metadata": {},
   "outputs": [],
   "source": []
  }
 ],
 "metadata": {
  "kernelspec": {
   "display_name": "Python 3",
   "language": "python",
   "name": "python3"
  },
  "language_info": {
   "codemirror_mode": {
    "name": "ipython",
    "version": 3
   },
   "file_extension": ".py",
   "mimetype": "text/x-python",
   "name": "python",
   "nbconvert_exporter": "python",
   "pygments_lexer": "ipython3",
   "version": "3.7.0"
  }
 },
 "nbformat": 4,
 "nbformat_minor": 2
}
