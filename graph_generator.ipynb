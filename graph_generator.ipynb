{
 "cells": [
  {
   "cell_type": "code",
   "execution_count": 1,
   "metadata": {},
   "outputs": [],
   "source": [
    "# import plotly\n",
    "# import plotly.plotly as py\n",
    "# import plotly.graph_objs as go\n",
    "# import plotly.figure_factory as FF\n",
    "# from plotly.offline import download_plotlyjs, init_notebook_mode, plot, iplot\n",
    "\n",
    "import numpy as np\n",
    "import pandas as pd\n",
    "import matplotlib.pyplot as plt\n",
    "from pathlib import Path\n"
   ]
  },
  {
   "cell_type": "code",
   "execution_count": 8,
   "metadata": {},
   "outputs": [],
   "source": [
    "filename = Path(\"data/sample_data.csv\") # agnostic path using pathlib\n",
    "\n",
    "df = pd.read_csv(filename) # read in dataframe from file"
   ]
  },
  {
   "cell_type": "code",
   "execution_count": 9,
   "metadata": {},
   "outputs": [
    {
     "name": "stdout",
     "output_type": "stream",
     "text": [
      "         cuisine  eggs  milk  salt  bread  butter  beans  oil  cheese  \\\n",
      "0       filipino     4     1     1      0       2      3    4       5   \n",
      "1        spanish     9     5     5      5       3      2    1       1   \n",
      "2       jamaican     8     2     4      8       6      6    6       7   \n",
      "3           thai     3     7     6      1       3      2    1       0   \n",
      "4         french    10     7     7     19      18     20   23      26   \n",
      "5        chinese    15     4     8      5       2      1    4       6   \n",
      "6        mexican    23     4     4     12       3      1    4       7   \n",
      "7         korean     2     2     5      5       7      8    9      10   \n",
      "8       japanese     5     1     6      2       3      2    2       1   \n",
      "9      brazilian     8     3     7      5       5      4    4       3   \n",
      "10        indian     0     0     3      2       4      4    5       6   \n",
      "11         irish     1     5     3      6       7      8   10      11   \n",
      "12       russian     9     3     5      4       2      1    1       2   \n",
      "13    vietnamese    15     1     6      3       2      5    8      11   \n",
      "14      moroccan     2     1     4      2       3      3    4       4   \n",
      "15  cajun_creole     4     2    33     11      26     31   36      41   \n",
      "16   southern_us     9     4     5      2       0      2    4       6   \n",
      "17         greek     4     2     7      4       6      6    7       7   \n",
      "18       italian     2     6     3     21      22     27   32      38   \n",
      "19       british    17     5     5      1       5     10   15      19   \n",
      "\n",
      "    chicken  ...   tofu  pretzel  pepper  grass  lincolnlogs  water  pork  \\\n",
      "0         6  ...     10       11      12     14           15     16    17   \n",
      "1         2  ...      5        7       8      9           10     11    13   \n",
      "2         7  ...      7        8       8      8            8      8     9   \n",
      "3         0  ...      2        3       4      5            5      6     7   \n",
      "4        28  ...     36       39      42     45           47     50    53   \n",
      "5         9  ...     17       19      22     25           27     30    32   \n",
      "6        11  ...     21       24      27     31           34     37    40   \n",
      "7        11  ...     15       16      17     19           20     21    22   \n",
      "8         1  ...      0        1       1      2            2      2     3   \n",
      "9         3  ...      1        1       0      1            1      2     2   \n",
      "10        7  ...     10       11      12     13           13     14    15   \n",
      "11       12  ...     16       17      19     20           21     23    24   \n",
      "12        3  ...      7        8      10     11           12     14    15   \n",
      "13       14  ...     23       26      29     33           36     39    42   \n",
      "14        4  ...      5        5       6      6            6      7     7   \n",
      "15       46  ...     62       67      72     78           83     88    93   \n",
      "16        8  ...     14       16      18     20           22     24    26   \n",
      "17        8  ...      9       10      10     11           11     12    12   \n",
      "18       43  ...     59       65      70     76           81     86    92   \n",
      "19       24  ...     39       43      48     53           58     63    67   \n",
      "\n",
      "    seeds  kale  fish  \n",
      "0      18    20    21  \n",
      "1      14    15    16  \n",
      "2       9     9     9  \n",
      "3       7     8     9  \n",
      "4      55    58    61  \n",
      "5      35    38    40  \n",
      "6      44    47    50  \n",
      "7      23    25    26  \n",
      "8       3     4     4  \n",
      "9       3     3     4  \n",
      "10     16    17    18  \n",
      "11     25    27    28  \n",
      "12     16    18    19  \n",
      "13     45    48    51  \n",
      "14      7     8     8  \n",
      "15     98   104   109  \n",
      "16     28    30    32  \n",
      "17     13    13    14  \n",
      "18     97   103   108  \n",
      "19     72    77    82  \n",
      "\n",
      "[20 rows x 22 columns]\n"
     ]
    }
   ],
   "source": [
    "print(df)"
   ]
  },
  {
   "cell_type": "code",
   "execution_count": 72,
   "metadata": {},
   "outputs": [
    {
     "name": "stdout",
     "output_type": "stream",
     "text": [
      "RangeIndex(start=0, stop=20, step=1)\n",
      "milk            5\n",
      "salt            5\n",
      "bread           5\n",
      "butter          3\n",
      "beans           2\n",
      "oil             1\n",
      "cheese          1\n",
      "chicken         2\n",
      "broth           3\n",
      "rice            4\n",
      "tofu            5\n",
      "pretzel         7\n",
      "pepper          8\n",
      "grass           9\n",
      "lincolnlogs    10\n",
      "water          11\n",
      "pork           13\n",
      "seeds          14\n",
      "kale           15\n",
      "fish           16\n",
      "Name: 1, dtype: int64\n"
     ]
    },
    {
     "data": {
      "image/png": "[encoded data removed]",
      "text/plain": [
       "<Figure size 432x288 with 1 Axes>"
      ]
     },
     "metadata": {},
     "output_type": "display_data"
    }
   ],
   "source": [
    "country_data = df[\"cuisine\"]\n",
    "medal_data = df.iloc[:,2:]\n",
    "\n",
    "#cuisine_loc = country_data.str.match(\"filipino\")\n",
    "#print(cuisine_loc)\n",
    "#select data for a single cuisine, can be looped later\n",
    "this_cuisine = country_data.iloc[1]\n",
    "this_data = medal_data.iloc[1]\n",
    "\n",
    "#print(this_data)\n",
    "#create subset of largest used ingredients\n",
    "subset = this_data.nlargest(9)\n",
    "total = this_data.sum() # total count\n",
    "misc_data = pd.Series([total - subset.sum()], index = [\"misc\"]) # get count of remaining ingredients\n",
    "subset = subset.append(misc_data)\n",
    "\n",
    "#print(subset)\n",
    "# colors = [\"#1f77b4\", \"#ff7f0e\", \"#2ca02c\", \"#d62728\", \"#8c564b\"]\n",
    "# explode = (0.1, 0, 0, 0, 0)  \n",
    "plt.pie(subset,labels = subset.index, autopct='%1.1f%%', shadow=True, startangle=140)\n",
    "plt.title(\"Gold medal achievements of five most successful\\n\"+\"countries in 2016 Summer Olympics\")\n",
    "plt.show()"
   ]
  },
  {
   "cell_type": "code",
   "execution_count": 4,
   "metadata": {},
   "outputs": [],
   "source": [
    "# sample_data_table = FF.create_table(df)"
   ]
  },
  {
   "cell_type": "code",
   "execution_count": 10,
   "metadata": {},
   "outputs": [],
   "source": [
    "# print(sample_data_table)"
   ]
  },
  {
   "cell_type": "code",
   "execution_count": 6,
   "metadata": {
    "scrolled": false
   },
   "outputs": [],
   "source": [
    "# labels = ['Oxygen','Hydrogen','Carbon_Dioxide','Nitrogen']\n",
    "# values = [4500,2500,1053,500]\n",
    "\n",
    "# trace = go.Pie(labels=labels, values=values)\n",
    "\n",
    "# py.iplot([trace], filename='basic_pie_chart')\n",
    "\n",
    "# py.iplot(sample_data_table)"
   ]
  },
  {
   "cell_type": "code",
   "execution_count": 9,
   "metadata": {},
   "outputs": [],
   "source": [
    "# import plotly.plotly as py\n",
    "# import plotly.figure_factory as ff\n",
    "# import plotly.graph_objs as go\n",
    "\n",
    "# import numpy as np\n",
    "\n",
    "# ## Create first plot\n",
    "# x1,y1 = np.meshgrid(np.arange(0, 2, .2), np.arange(0, 2, .2))\n",
    "# u1 = np.cos(x1)*y1\n",
    "# v1 = np.sin(x1)*y1\n",
    "\n",
    "# fig1 = ff.create_quiver(x1, y1, u1, v1, name='Quiver')\n",
    "\n",
    "\n",
    "# ## Create second plot\n",
    "# x = np.linspace(-3, 3, 100)\n",
    "# y = np.linspace(-3, 3, 100)\n",
    "# Y, X = np.meshgrid(x, y)\n",
    "# u = -1 - X**2 + Y\n",
    "# v = 1 + X - Y**2\n",
    "\n",
    "# fig2 = ff.create_streamline(x, y, u, v, arrow_scale=.1, name='Steamline')"
   ]
  },
  {
   "cell_type": "code",
   "execution_count": 10,
   "metadata": {},
   "outputs": [
    {
     "data": {
      "text/plain": [
       "layout.YAxis({\n",
       "    'anchor': 'x2', 'domain': [0, 0.45]\n",
       "})"
      ]
     },
     "execution_count": 10,
     "metadata": {},
     "output_type": "execute_result"
    }
   ],
   "source": [
    "# for i in range(len(fig1.data)):\n",
    "#     fig1.data[i].xaxis='x1'\n",
    "#     fig1.data[i].yaxis='y1'\n",
    "\n",
    "# fig1.layout.xaxis1.update({'anchor': 'y1'})\n",
    "# fig1.layout.yaxis1.update({'anchor': 'x1', 'domain': [.55, 1]})\n",
    "\n",
    "# for i in range(len(fig2.data)):\n",
    "#     fig2.data[i].xaxis='x2'\n",
    "#     fig2.data[i].yaxis='y2'\n",
    "\n",
    "# # initialize xaxis2 and yaxis2\n",
    "# fig2['layout']['xaxis2'] = {}\n",
    "# fig2['layout']['yaxis2'] = {}\n",
    "\n",
    "# fig2.layout.xaxis2.update({'anchor': 'y2'})\n",
    "# fig2.layout.yaxis2.update({'anchor': 'x2', 'domain': [0, .45]})"
   ]
  },
  {
   "cell_type": "code",
   "execution_count": 11,
   "metadata": {},
   "outputs": [
    {
     "name": "stdout",
     "output_type": "stream",
     "text": [
      "Aw, snap! We didn't get a username with your request.\n",
      "\n",
      "Don't have an account? https://plot.ly/api_signup\n",
      "\n",
      "Questions? accounts@plot.ly\n"
     ]
    },
    {
     "ename": "PlotlyError",
     "evalue": "Because you didn't supply a 'file_id' in the call, we're assuming you're trying to snag a figure from a url. You supplied the url, '', we expected it to start with 'https://plot.ly'.\nRun help on this function for more information.",
     "output_type": "error",
     "traceback": [
      "\u001b[1;31m---------------------------------------------------------------------------\u001b[0m",
      "\u001b[1;31mPlotlyError\u001b[0m                               Traceback (most recent call last)",
      "\u001b[1;32m<ipython-input-11-d78d7a541498>\u001b[0m in \u001b[0;36m<module>\u001b[1;34m()\u001b[0m\n\u001b[0;32m      5\u001b[0m \u001b[0mfig\u001b[0m\u001b[1;33m.\u001b[0m\u001b[0mlayout\u001b[0m\u001b[1;33m.\u001b[0m\u001b[0mupdate\u001b[0m\u001b[1;33m(\u001b[0m\u001b[0mfig2\u001b[0m\u001b[1;33m.\u001b[0m\u001b[0mlayout\u001b[0m\u001b[1;33m)\u001b[0m\u001b[1;33m\u001b[0m\u001b[0m\n\u001b[0;32m      6\u001b[0m \u001b[1;33m\u001b[0m\u001b[0m\n\u001b[1;32m----> 7\u001b[1;33m \u001b[0mpy\u001b[0m\u001b[1;33m.\u001b[0m\u001b[0miplot\u001b[0m\u001b[1;33m(\u001b[0m\u001b[0mfig\u001b[0m\u001b[1;33m,\u001b[0m \u001b[0mfilename\u001b[0m\u001b[1;33m=\u001b[0m\u001b[1;34m'figure_factory_subplot'\u001b[0m\u001b[1;33m)\u001b[0m\u001b[1;33m\u001b[0m\u001b[0m\n\u001b[0m",
      "\u001b[1;32mC:\\ProgramData\\Anaconda3\\lib\\site-packages\\chart_studio\\plotly\\plotly.py\u001b[0m in \u001b[0;36miplot\u001b[1;34m(figure_or_data, **plot_options)\u001b[0m\n\u001b[0;32m    185\u001b[0m         \u001b[0membed_options\u001b[0m\u001b[1;33m[\u001b[0m\u001b[1;34m'height'\u001b[0m\u001b[1;33m]\u001b[0m \u001b[1;33m=\u001b[0m \u001b[0mstr\u001b[0m\u001b[1;33m(\u001b[0m\u001b[0membed_options\u001b[0m\u001b[1;33m[\u001b[0m\u001b[1;34m'height'\u001b[0m\u001b[1;33m]\u001b[0m\u001b[1;33m)\u001b[0m \u001b[1;33m+\u001b[0m \u001b[1;34m'px'\u001b[0m\u001b[1;33m\u001b[0m\u001b[0m\n\u001b[0;32m    186\u001b[0m \u001b[1;33m\u001b[0m\u001b[0m\n\u001b[1;32m--> 187\u001b[1;33m     \u001b[1;32mreturn\u001b[0m \u001b[0mtools\u001b[0m\u001b[1;33m.\u001b[0m\u001b[0membed\u001b[0m\u001b[1;33m(\u001b[0m\u001b[0murl\u001b[0m\u001b[1;33m,\u001b[0m \u001b[1;33m**\u001b[0m\u001b[0membed_options\u001b[0m\u001b[1;33m)\u001b[0m\u001b[1;33m\u001b[0m\u001b[0m\n\u001b[0m\u001b[0;32m    188\u001b[0m \u001b[1;33m\u001b[0m\u001b[0m\n\u001b[0;32m    189\u001b[0m \u001b[1;33m\u001b[0m\u001b[0m\n",
      "\u001b[1;32mC:\\ProgramData\\Anaconda3\\lib\\site-packages\\chart_studio\\tools.py\u001b[0m in \u001b[0;36membed\u001b[1;34m(file_owner_or_url, file_id, width, height)\u001b[0m\n\u001b[0;32m    362\u001b[0m         \u001b[1;32melse\u001b[0m\u001b[1;33m:\u001b[0m\u001b[1;33m\u001b[0m\u001b[0m\n\u001b[0;32m    363\u001b[0m             \u001b[0murl\u001b[0m \u001b[1;33m=\u001b[0m \u001b[0mfile_owner_or_url\u001b[0m\u001b[1;33m\u001b[0m\u001b[0m\n\u001b[1;32m--> 364\u001b[1;33m         \u001b[1;32mreturn\u001b[0m \u001b[0mPlotlyDisplay\u001b[0m\u001b[1;33m(\u001b[0m\u001b[0murl\u001b[0m\u001b[1;33m,\u001b[0m \u001b[0mwidth\u001b[0m\u001b[1;33m,\u001b[0m \u001b[0mheight\u001b[0m\u001b[1;33m)\u001b[0m\u001b[1;33m\u001b[0m\u001b[0m\n\u001b[0m\u001b[0;32m    365\u001b[0m     \u001b[1;32melse\u001b[0m\u001b[1;33m:\u001b[0m\u001b[1;33m\u001b[0m\u001b[0m\n\u001b[0;32m    366\u001b[0m         if (get_config_defaults()['plotly_domain']\n",
      "\u001b[1;32mC:\\ProgramData\\Anaconda3\\lib\\site-packages\\chart_studio\\tools.py\u001b[0m in \u001b[0;36m__init__\u001b[1;34m(self, url, width, height)\u001b[0m\n\u001b[0;32m    393\u001b[0m         \u001b[1;32mdef\u001b[0m \u001b[0m__init__\u001b[0m\u001b[1;33m(\u001b[0m\u001b[0mself\u001b[0m\u001b[1;33m,\u001b[0m \u001b[0murl\u001b[0m\u001b[1;33m,\u001b[0m \u001b[0mwidth\u001b[0m\u001b[1;33m,\u001b[0m \u001b[0mheight\u001b[0m\u001b[1;33m)\u001b[0m\u001b[1;33m:\u001b[0m\u001b[1;33m\u001b[0m\u001b[0m\n\u001b[0;32m    394\u001b[0m             \u001b[0mself\u001b[0m\u001b[1;33m.\u001b[0m\u001b[0mresource\u001b[0m \u001b[1;33m=\u001b[0m \u001b[0murl\u001b[0m\u001b[1;33m\u001b[0m\u001b[0m\n\u001b[1;32m--> 395\u001b[1;33m             \u001b[0mself\u001b[0m\u001b[1;33m.\u001b[0m\u001b[0membed_code\u001b[0m \u001b[1;33m=\u001b[0m \u001b[0mget_embed\u001b[0m\u001b[1;33m(\u001b[0m\u001b[0murl\u001b[0m\u001b[1;33m,\u001b[0m \u001b[0mwidth\u001b[0m\u001b[1;33m=\u001b[0m\u001b[0mwidth\u001b[0m\u001b[1;33m,\u001b[0m \u001b[0mheight\u001b[0m\u001b[1;33m=\u001b[0m\u001b[0mheight\u001b[0m\u001b[1;33m)\u001b[0m\u001b[1;33m\u001b[0m\u001b[0m\n\u001b[0m\u001b[0;32m    396\u001b[0m             \u001b[0msuper\u001b[0m\u001b[1;33m(\u001b[0m\u001b[0mPlotlyDisplay\u001b[0m\u001b[1;33m,\u001b[0m \u001b[0mself\u001b[0m\u001b[1;33m)\u001b[0m\u001b[1;33m.\u001b[0m\u001b[0m__init__\u001b[0m\u001b[1;33m(\u001b[0m\u001b[0mdata\u001b[0m\u001b[1;33m=\u001b[0m\u001b[0mself\u001b[0m\u001b[1;33m.\u001b[0m\u001b[0membed_code\u001b[0m\u001b[1;33m)\u001b[0m\u001b[1;33m\u001b[0m\u001b[0m\n\u001b[0;32m    397\u001b[0m \u001b[1;33m\u001b[0m\u001b[0m\n",
      "\u001b[1;32mC:\\ProgramData\\Anaconda3\\lib\\site-packages\\chart_studio\\tools.py\u001b[0m in \u001b[0;36mget_embed\u001b[1;34m(file_owner_or_url, file_id, width, height)\u001b[0m\n\u001b[0;32m    267\u001b[0m                 \u001b[1;34m\"'{1}'.\"\u001b[0m\u001b[1;33m\u001b[0m\u001b[0m\n\u001b[0;32m    268\u001b[0m                 \u001b[1;34m\"\\nRun help on this function for more information.\"\u001b[0m\u001b[1;33m\u001b[0m\u001b[0m\n\u001b[1;32m--> 269\u001b[1;33m                 \"\".format(url, plotly_rest_url))\n\u001b[0m\u001b[0;32m    270\u001b[0m         \u001b[0murlsplit\u001b[0m \u001b[1;33m=\u001b[0m \u001b[0msix\u001b[0m\u001b[1;33m.\u001b[0m\u001b[0mmoves\u001b[0m\u001b[1;33m.\u001b[0m\u001b[0murllib\u001b[0m\u001b[1;33m.\u001b[0m\u001b[0mparse\u001b[0m\u001b[1;33m.\u001b[0m\u001b[0murlparse\u001b[0m\u001b[1;33m(\u001b[0m\u001b[0murl\u001b[0m\u001b[1;33m)\u001b[0m\u001b[1;33m\u001b[0m\u001b[0m\n\u001b[0;32m    271\u001b[0m         \u001b[0mfile_owner\u001b[0m \u001b[1;33m=\u001b[0m \u001b[0murlsplit\u001b[0m\u001b[1;33m.\u001b[0m\u001b[0mpath\u001b[0m\u001b[1;33m.\u001b[0m\u001b[0msplit\u001b[0m\u001b[1;33m(\u001b[0m\u001b[1;34m'/'\u001b[0m\u001b[1;33m)\u001b[0m\u001b[1;33m[\u001b[0m\u001b[1;36m1\u001b[0m\u001b[1;33m]\u001b[0m\u001b[1;33m.\u001b[0m\u001b[0msplit\u001b[0m\u001b[1;33m(\u001b[0m\u001b[1;34m'~'\u001b[0m\u001b[1;33m)\u001b[0m\u001b[1;33m[\u001b[0m\u001b[1;36m1\u001b[0m\u001b[1;33m]\u001b[0m\u001b[1;33m\u001b[0m\u001b[0m\n",
      "\u001b[1;31mPlotlyError\u001b[0m: Because you didn't supply a 'file_id' in the call, we're assuming you're trying to snag a figure from a url. You supplied the url, '', we expected it to start with 'https://plot.ly'.\nRun help on this function for more information."
     ]
    }
   ],
   "source": [
    "# fig = go.Figure()\n",
    "# fig.add_traces([fig1.data[0], fig2.data[0]])\n",
    "\n",
    "# fig.layout.update(fig1.layout)\n",
    "# fig.layout.update(fig2.layout)\n",
    "\n",
    "# py.iplot(fig, filename='figure_factory_subplot')"
   ]
  },
  {
   "cell_type": "code",
   "execution_count": null,
   "metadata": {},
   "outputs": [],
   "source": []
  }
 ],
 "metadata": {
  "kernelspec": {
   "display_name": "Python 3",
   "language": "python",
   "name": "python3"
  },
  "language_info": {
   "codemirror_mode": {
    "name": "ipython",
    "version": 3
   },
   "file_extension": ".py",
   "mimetype": "text/x-python",
   "name": "python",
   "nbconvert_exporter": "python",
   "pygments_lexer": "ipython3",
   "version": "3.7.0"
  }
 },
 "nbformat": 4,
 "nbformat_minor": 2
}
